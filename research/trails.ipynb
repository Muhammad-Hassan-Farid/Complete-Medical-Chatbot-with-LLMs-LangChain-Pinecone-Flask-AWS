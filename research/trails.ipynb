{
 "cells": [
  {
   "cell_type": "code",
   "execution_count": 40,
   "id": "7ef8457d",
   "metadata": {},
   "outputs": [],
   "source": [
    "#! pip install langchain==0.3.26\n",
    "#! pip install flask==3.1.1 \n",
    "#! pip install sentence-transformers==4.1.0\n",
    "#! pip install pypdf==5.6.1 \n",
    "#! pip install python-dotenv==1.1.0\n",
    "#! pip install langchain-pinecone==0.2.8 \n",
    "#! pip install langchain-openai==0.3.24\n",
    "#! pip install langchain-community==0.3.26\n",
    "#! pip install dotenv"
   ]
  },
  {
   "cell_type": "code",
   "execution_count": 2,
   "id": "a822cc7d",
   "metadata": {},
   "outputs": [
    {
     "data": {
      "text/plain": [
       "'/Users/hassanfarid/Documents/Complete-Medical-Chatbot-with-LLMs-LangChain-Pinecone-Flask-AWS/research'"
      ]
     },
     "execution_count": 2,
     "metadata": {},
     "output_type": "execute_result"
    }
   ],
   "source": [
    "%pwd"
   ]
  },
  {
   "cell_type": "code",
   "execution_count": 3,
   "id": "b68dd9f2",
   "metadata": {},
   "outputs": [],
   "source": [
    "import os\n",
    "\n",
    "os.chdir('../')"
   ]
  },
  {
   "cell_type": "code",
   "execution_count": 4,
   "id": "ab879520",
   "metadata": {},
   "outputs": [
    {
     "data": {
      "text/plain": [
       "'/Users/hassanfarid/Documents/Complete-Medical-Chatbot-with-LLMs-LangChain-Pinecone-Flask-AWS'"
      ]
     },
     "execution_count": 4,
     "metadata": {},
     "output_type": "execute_result"
    }
   ],
   "source": [
    "%pwd"
   ]
  },
  {
   "cell_type": "code",
   "execution_count": null,
   "id": "67a0c46f",
   "metadata": {},
   "outputs": [
    {
     "name": "stderr",
     "output_type": "stream",
     "text": [
      "/opt/anaconda3/envs/medibot/lib/python3.10/site-packages/tqdm/auto.py:21: TqdmWarning: IProgress not found. Please update jupyter and ipywidgets. See https://ipywidgets.readthedocs.io/en/stable/user_install.html\n",
      "  from .autonotebook import tqdm as notebook_tqdm\n"
     ]
    }
   ],
   "source": [
    "from langchain.document_loaders import PyPDFLoader, DirectoryLoader\n",
    "from langchain.text_splitter import RecursiveCharacterTextSplitter"
   ]
  },
  {
   "cell_type": "code",
   "execution_count": 12,
   "id": "d73920e2",
   "metadata": {},
   "outputs": [],
   "source": [
    "def load_pdf_files(data):\n",
    "    loader = DirectoryLoader(\n",
    "        data,\n",
    "        glob = \"*.pdf\",\n",
    "        loader_cls = PyPDFLoader\n",
    "    )\n",
    "    documents = loader.load()\n",
    "    return documents"
   ]
  },
  {
   "cell_type": "code",
   "execution_count": 17,
   "id": "d6683240",
   "metadata": {},
   "outputs": [],
   "source": [
    "data_path = 'Dataset/'\n",
    "extracted_data = load_pdf_files(data_path)"
   ]
  },
  {
   "cell_type": "code",
   "execution_count": 25,
   "id": "3566b87a",
   "metadata": {},
   "outputs": [
    {
     "data": {
      "text/plain": [
       "Document(metadata={'producer': 'PDFlib+PDI 5.0.0 (SunOS)', 'creator': 'PyPDF', 'creationdate': '2004-12-18T17:00:02-05:00', 'moddate': '2004-12-18T16:15:31-06:00', 'source': 'Dataset/Medical_book.pdf', 'total_pages': 637, 'page': 100, 'page_label': '101'}, page_content='• T cell lymphocytes: 644-2200/mm\\n3\\n, 60-88% of all lym-\\nphocytes.\\n• B cell lymphocytes: 82-392/mm\\n3\\n, 3-20% of all lympho-\\ncytes.\\n• CD4+ lymphocytes: 500-1200/mm\\n3\\n, 34-67% of all\\nlymphocytes.\\nAbnormal results\\nThe following results in AIDS tests indicate progres-\\nsion of the disease:\\n• Percentage of CD4+ lymphocytes: less than 20% of all\\nlymphocytes.\\n• CD4+ lymphocyte count: less than 200 cells/mm\\n3\\n.\\n• Viral load test: Levels more than 5000 copies/mL.\\n• /H9252-2-microglobulin: Levels more than 3.5 mg/dL.\\n• P24 antigen: Measurable amounts in blood serum.\\nResources\\nBOOKS\\nAvrameas, Stratis, and Therese Ternynck. “Enzyme Linked\\nImmunosorbent Assay (ELISA).” In Encyclopedia of\\nImmunology.V ol. 1. Ed. Ivan M. Roitt and Peter J. Delves.\\nLondon: Academic Press, 1992.\\nBennett, Rebecca, and Erin, Charles A. (Editors). HIV and\\nAIDS Testing, Screening, and Confidentiality: Ethics, Law,\\nand Social Policy.Oxford, England: Oxford University\\nPress, 2001.\\nEarly HIV Infection Guideline Panel. Evaluation and Manage-\\nment of Early HIV Infection. Rockville, MD: U.S. Depart-\\nment of Health and Human Services, Agency for Health\\nCare Policy and Research, 1994.\\nHuber, Jeffrey T. Dictionary of AIDS- Related Terminology.\\nNew York: Neal-Schuman Publishers, Inc., 1993.\\n“Infectious Diseases: Human Immunodeficiency Virus (HIV).”\\nIn Neonatology: Management, Procedures, On-Call Prob-\\nlems, Diseases and Drugs. Ed. Tricia Lacy Gomella et al.\\nNorwalk, CT: Appleton & Lange, 1994.\\nKatz, Mitchell H., and Harry Hollander. “HIV Infection.” In\\nCurrent Medical Diagnosis & Treatment.Ed. Lawrence\\nM. Tierney et al. Stamford, CT: Appleton & Lange, 1998.\\nMcClure, Myra. “Human Immunodeficiency Viruses.” In Ency-\\nclopedia of Immunology.V ol. 2. Ed. by Ivan M. Roitt and\\nPeter J. Delves. London: Academic Press, 1992.\\nMcFarland, Elizabeth J. “Human Immunodeficiency Virus\\n(HIV) Infections: Acquired Immunodeficiency Syndrome\\n(AIDS).” In Current Pediatric Diagnosis & Treatment.Ed.\\nWilliam W. Hay et al. Stamford, CT: Appleton & Lange,\\n1997.\\nSo, Peter, and Livette Johnson. “Acquired Immune Deficiency\\nSyndrome (AIDS).” In Conn’s Current Therapy.Ed.\\nRobert E. Rakel. Philadelphia: W. B. Saunders Company,\\n1997.\\nSpringhouse Publishing. Handbook of Diagnostic Tests.\\nSpringhouse, PA: Springhouse Publishing Co., 1999.\\nTowbin, Harry. “Western Blotting.” In Encyclopedia of\\nImmunology.V ol. 3. Ed. Ivan M. Roitt and Peter J. Delves.\\nLondon: Academic Press, 1992.\\nPERIODICALS\\nFreedberg, Kenneth A., and Samet, Jeffrey H. “Think HIV\\n(HIV Testing).”Archives of Internal Medicine (September\\n27, 1999): 1994\\nKaplan, Edward H., and Satten, Glen A. “Repeat Screening for\\nHIV: When to Test and Why.”The Journal of the Ameri-\\ncan Medical Association. (July 19, 2000): 285.\\nSieff, Elaine M., et al. “Anticipated Versus Actual Reaction to\\nHIV Test Results.”American Journal of Psychology.\\n(Summer 1999): 297-298.\\nWeinhardt, Lance S., et al. “Human Immunodeficiency Virus\\nTesting and Behavior Change.”Archives of Internal Medi-\\ncine. (May 22, 2000): 1538.\\nWoehrle, Theresa A., and Branson, Bernard. “New Tests for\\nDetecting HIV Infection.”The Western Journal of Medi-\\ncine. (December 1998): 371-372.\\nORGANIZATION\\nNational Association of People with Aids. 1413 K St.N.W.,\\nWashington, DC 20005-3442. (202) 898-0414.\\nNational Institute of Health. Office of Aids Research. (301)\\n496-0357. <http://www.nih.gov/od/oar/index.htm>.\\nCenters for Disease Control and Prevention (CDC). 1600\\nClifton Rd., Atlanta, GA 30337. (404) 639-3311. <http://\\nwww.cdc.gov>.\\nOTHER\\nFood and Drug Administration (FDA). “Testing Yourself for\\nHIV-1, the Virus that Causes AIDS.” 1999. Available at\\nFDA Website: <http://www.fda.gov>. or by calling (301)\\n827-4460.\\nKen R. Wells\\nAir embolism see Gas embolism\\nAlanine aminotransferase test\\nDefinition\\nThe alanine aminotransferase test, also known as\\nALT, is one of a group of tests known as liver function\\ntests (or LFTs) and is used to monitor damage to the liver.\\nPurpose\\nALT levels are used to detect liver abnormalities.\\nSince the alanine aminotransferase enzyme is also found\\nin muscle, tests indicating elevated AST levels might also\\nindicate muscle damage. However, other tests, such as\\nGALE ENCYCLOPEDIA OF MEDICINE 2 87\\nAlanine aminotransferase test\\nGEM - 0001 to 0432 - A  10/22/03 1:41 PM  Page 87')"
      ]
     },
     "execution_count": 25,
     "metadata": {},
     "output_type": "execute_result"
    }
   ],
   "source": [
    "extracted_data[100]"
   ]
  },
  {
   "cell_type": "code",
   "execution_count": null,
   "id": "ce700d79",
   "metadata": {},
   "outputs": [
    {
     "name": "stdout",
     "output_type": "stream",
     "text": [
      "Length of data(pages) 637\n"
     ]
    }
   ],
   "source": [
    "print(\"Length of data(pages):\",len(extracted_data)) "
   ]
  },
  {
   "cell_type": "code",
   "execution_count": 27,
   "id": "c3099341",
   "metadata": {},
   "outputs": [],
   "source": [
    "from typing import List\n",
    "from langchain.schema import Document\n",
    "\n",
    "def filter_to_minimal_docs(docs: List[Document]) -> List[Document]:\n",
    "    \"\"\"\n",
    "    Given a list of Document objects, return a new list of Document objects\n",
    "    containing only \"source\" in the metadata and the original page_content.\n",
    "    \"\"\"\n",
    "    \n",
    "    minimal_docs: List[Document] = []\n",
    "    \n",
    "    for doc in docs:\n",
    "        src = doc.metadata.get(\"source\")\n",
    "        minimal_docs.append(\n",
    "            Document(\n",
    "                page_content = doc.page_content,\n",
    "                metadata = {\"source\": src}\n",
    "            )\n",
    "        )\n",
    "    return minimal_docs"
   ]
  },
  {
   "cell_type": "code",
   "execution_count": 28,
   "id": "abcfe694",
   "metadata": {},
   "outputs": [],
   "source": [
    "minimal_docs = filter_to_minimal_docs(extracted_data)"
   ]
  },
  {
   "cell_type": "code",
   "execution_count": 29,
   "id": "0fc6f002",
   "metadata": {},
   "outputs": [
    {
     "data": {
      "text/plain": [
       "Document(metadata={'source': 'Dataset/Medical_book.pdf'}, page_content='• T cell lymphocytes: 644-2200/mm\\n3\\n, 60-88% of all lym-\\nphocytes.\\n• B cell lymphocytes: 82-392/mm\\n3\\n, 3-20% of all lympho-\\ncytes.\\n• CD4+ lymphocytes: 500-1200/mm\\n3\\n, 34-67% of all\\nlymphocytes.\\nAbnormal results\\nThe following results in AIDS tests indicate progres-\\nsion of the disease:\\n• Percentage of CD4+ lymphocytes: less than 20% of all\\nlymphocytes.\\n• CD4+ lymphocyte count: less than 200 cells/mm\\n3\\n.\\n• Viral load test: Levels more than 5000 copies/mL.\\n• /H9252-2-microglobulin: Levels more than 3.5 mg/dL.\\n• P24 antigen: Measurable amounts in blood serum.\\nResources\\nBOOKS\\nAvrameas, Stratis, and Therese Ternynck. “Enzyme Linked\\nImmunosorbent Assay (ELISA).” In Encyclopedia of\\nImmunology.V ol. 1. Ed. Ivan M. Roitt and Peter J. Delves.\\nLondon: Academic Press, 1992.\\nBennett, Rebecca, and Erin, Charles A. (Editors). HIV and\\nAIDS Testing, Screening, and Confidentiality: Ethics, Law,\\nand Social Policy.Oxford, England: Oxford University\\nPress, 2001.\\nEarly HIV Infection Guideline Panel. Evaluation and Manage-\\nment of Early HIV Infection. Rockville, MD: U.S. Depart-\\nment of Health and Human Services, Agency for Health\\nCare Policy and Research, 1994.\\nHuber, Jeffrey T. Dictionary of AIDS- Related Terminology.\\nNew York: Neal-Schuman Publishers, Inc., 1993.\\n“Infectious Diseases: Human Immunodeficiency Virus (HIV).”\\nIn Neonatology: Management, Procedures, On-Call Prob-\\nlems, Diseases and Drugs. Ed. Tricia Lacy Gomella et al.\\nNorwalk, CT: Appleton & Lange, 1994.\\nKatz, Mitchell H., and Harry Hollander. “HIV Infection.” In\\nCurrent Medical Diagnosis & Treatment.Ed. Lawrence\\nM. Tierney et al. Stamford, CT: Appleton & Lange, 1998.\\nMcClure, Myra. “Human Immunodeficiency Viruses.” In Ency-\\nclopedia of Immunology.V ol. 2. Ed. by Ivan M. Roitt and\\nPeter J. Delves. London: Academic Press, 1992.\\nMcFarland, Elizabeth J. “Human Immunodeficiency Virus\\n(HIV) Infections: Acquired Immunodeficiency Syndrome\\n(AIDS).” In Current Pediatric Diagnosis & Treatment.Ed.\\nWilliam W. Hay et al. Stamford, CT: Appleton & Lange,\\n1997.\\nSo, Peter, and Livette Johnson. “Acquired Immune Deficiency\\nSyndrome (AIDS).” In Conn’s Current Therapy.Ed.\\nRobert E. Rakel. Philadelphia: W. B. Saunders Company,\\n1997.\\nSpringhouse Publishing. Handbook of Diagnostic Tests.\\nSpringhouse, PA: Springhouse Publishing Co., 1999.\\nTowbin, Harry. “Western Blotting.” In Encyclopedia of\\nImmunology.V ol. 3. Ed. Ivan M. Roitt and Peter J. Delves.\\nLondon: Academic Press, 1992.\\nPERIODICALS\\nFreedberg, Kenneth A., and Samet, Jeffrey H. “Think HIV\\n(HIV Testing).”Archives of Internal Medicine (September\\n27, 1999): 1994\\nKaplan, Edward H., and Satten, Glen A. “Repeat Screening for\\nHIV: When to Test and Why.”The Journal of the Ameri-\\ncan Medical Association. (July 19, 2000): 285.\\nSieff, Elaine M., et al. “Anticipated Versus Actual Reaction to\\nHIV Test Results.”American Journal of Psychology.\\n(Summer 1999): 297-298.\\nWeinhardt, Lance S., et al. “Human Immunodeficiency Virus\\nTesting and Behavior Change.”Archives of Internal Medi-\\ncine. (May 22, 2000): 1538.\\nWoehrle, Theresa A., and Branson, Bernard. “New Tests for\\nDetecting HIV Infection.”The Western Journal of Medi-\\ncine. (December 1998): 371-372.\\nORGANIZATION\\nNational Association of People with Aids. 1413 K St.N.W.,\\nWashington, DC 20005-3442. (202) 898-0414.\\nNational Institute of Health. Office of Aids Research. (301)\\n496-0357. <http://www.nih.gov/od/oar/index.htm>.\\nCenters for Disease Control and Prevention (CDC). 1600\\nClifton Rd., Atlanta, GA 30337. (404) 639-3311. <http://\\nwww.cdc.gov>.\\nOTHER\\nFood and Drug Administration (FDA). “Testing Yourself for\\nHIV-1, the Virus that Causes AIDS.” 1999. Available at\\nFDA Website: <http://www.fda.gov>. or by calling (301)\\n827-4460.\\nKen R. Wells\\nAir embolism see Gas embolism\\nAlanine aminotransferase test\\nDefinition\\nThe alanine aminotransferase test, also known as\\nALT, is one of a group of tests known as liver function\\ntests (or LFTs) and is used to monitor damage to the liver.\\nPurpose\\nALT levels are used to detect liver abnormalities.\\nSince the alanine aminotransferase enzyme is also found\\nin muscle, tests indicating elevated AST levels might also\\nindicate muscle damage. However, other tests, such as\\nGALE ENCYCLOPEDIA OF MEDICINE 2 87\\nAlanine aminotransferase test\\nGEM - 0001 to 0432 - A  10/22/03 1:41 PM  Page 87')"
      ]
     },
     "execution_count": 29,
     "metadata": {},
     "output_type": "execute_result"
    }
   ],
   "source": [
    "minimal_docs[100]"
   ]
  },
  {
   "cell_type": "code",
   "execution_count": 32,
   "id": "826c4e62",
   "metadata": {},
   "outputs": [],
   "source": [
    "def text_split(docs):\n",
    "    text_splitter = RecursiveCharacterTextSplitter(\n",
    "        chunk_size = 500,\n",
    "        chunk_overlap = 20\n",
    "    )\n",
    "    text_chunks = text_splitter.split_documents(docs)\n",
    "    return text_chunks"
   ]
  },
  {
   "cell_type": "code",
   "execution_count": 33,
   "id": "d13f344f",
   "metadata": {},
   "outputs": [
    {
     "name": "stdout",
     "output_type": "stream",
     "text": [
      "Number of Chunks: 5859\n"
     ]
    }
   ],
   "source": [
    "text_chunks = text_split(minimal_docs)\n",
    "print(f'Number of Chunks: {len(text_chunks)}')"
   ]
  },
  {
   "cell_type": "code",
   "execution_count": 35,
   "id": "7f5c2418",
   "metadata": {},
   "outputs": [
    {
     "name": "stderr",
     "output_type": "stream",
     "text": [
      "/var/folders/fh/3l8bx7nj5tv9qzbx13sctjjm0000gn/T/ipykernel_20097/4289267064.py:8: LangChainDeprecationWarning: The class `HuggingFaceEmbeddings` was deprecated in LangChain 0.2.2 and will be removed in 1.0. An updated version of the class exists in the :class:`~langchain-huggingface package and should be used instead. To use it run `pip install -U :class:`~langchain-huggingface` and import as `from :class:`~langchain_huggingface import HuggingFaceEmbeddings``.\n",
      "  embeddings = HuggingFaceEmbeddings(\n"
     ]
    }
   ],
   "source": [
    "from langchain.embeddings import HuggingFaceEmbeddings\n",
    "\n",
    "def download_embeddings():\n",
    "    \"\"\"\n",
    "    Download and return huggingface embedding model.\n",
    "    \"\"\"\n",
    "    model_name = \"sentence-transformers/all-MiniLM-L6-v2\"\n",
    "    embeddings = HuggingFaceEmbeddings(\n",
    "        model_name = model_name\n",
    "    )\n",
    "    return embeddings\n",
    "    \n",
    "embedding = download_embeddings()"
   ]
  },
  {
   "cell_type": "code",
   "execution_count": 49,
   "id": "aaa33d8f",
   "metadata": {},
   "outputs": [
    {
     "name": "stdout",
     "output_type": "stream",
     "text": [
      "client=SentenceTransformer(\n",
      "  (0): Transformer({'max_seq_length': 256, 'do_lower_case': False}) with Transformer model: BertModel \n",
      "  (1): Pooling({'word_embedding_dimension': 384, 'pooling_mode_cls_token': False, 'pooling_mode_mean_tokens': True, 'pooling_mode_max_tokens': False, 'pooling_mode_mean_sqrt_len_tokens': False, 'pooling_mode_weightedmean_tokens': False, 'pooling_mode_lasttoken': False, 'include_prompt': True})\n",
      "  (2): Normalize()\n",
      ") model_name='sentence-transformers/all-MiniLM-L6-v2' cache_folder=None model_kwargs={} encode_kwargs={} multi_process=False show_progress=False\n",
      "Vectors: [-0.056094396859407425, 0.03554259240627289, 0.004592870362102985, 0.02386585623025894, -0.04944375529885292, -0.15514132380485535, 0.06592568755149841, 0.022491320967674255, -0.021727290004491806, 0.014119270257651806, 0.05505150556564331, 0.024055687710642815, 0.005019017029553652, -0.006477480288594961, -0.03411555662751198, -0.05552103742957115, -0.0067526232451200485, -0.02301395684480667, -0.17627859115600586, -0.02309214323759079, 1.4205041225068271e-05, 0.07931116968393326, -0.012627854943275452, 0.03713012859225273, -0.09230007976293564, -0.023067906498908997, 0.06069957837462425, 0.05133029446005821, -0.029477547854185104, -0.037245459854602814, 0.03728847950696945, 0.0515996515750885, 0.09633666276931763, -0.009374083019793034, -0.01331027876585722, 0.0866255834698677, -0.08137481659650803, -0.06393183022737503, 0.005632493644952774, 0.018668076023459435, 0.050084616988897324, -0.07173807173967361, -0.055224623531103134, -0.04673884063959122, 0.008650874719023705, 0.0016597956418991089, -0.0011568235931918025, 0.05384952947497368, 0.05758414790034294, 0.013626771047711372, -0.06352677941322327, -0.06199290230870247, -0.006170402280986309, 0.01162343006581068, 0.06774754822254181, 0.02124781347811222, -0.007187641225755215, -0.004027474671602249, 0.03732984885573387, -0.013932039961218834, -0.0392925925552845, 0.008118145167827606, 0.012278531678020954, 0.06801030039787292, 0.10757080465555191, -0.07779208570718765, -0.016049308702349663, 0.045810047537088394, -0.06249456852674484, -0.047540899366140366, -0.03208336979150772, -0.011730792000889778, 0.015594982542097569, 0.06170813739299774, -0.04759955033659935, 0.02155110612511635, 0.011625139974057674, -0.0016674548387527466, -0.003901554737240076, 0.030484193935990334, 0.05832170695066452, -0.10131252557039261, 0.013416058383882046, 0.040235843509435654, 0.031676869839429855, -0.006143879611045122, 0.020309405401349068, 0.012976035475730896, -0.03424741327762604, -0.01099320687353611, -0.11380244046449661, 0.010647829622030258, 0.02627745270729065, 0.028850236907601357, -0.0813983827829361, -0.043791916221380234, 0.08438508957624435, -0.02219264954328537, -0.1231401264667511, 0.17872165143489838, 0.049157846719026566, 0.039301108568906784, 0.0404825322329998, 0.03269515931606293, 0.06886554509401321, 0.020192287862300873, -0.04184865579009056, 0.0379582904279232, -0.058161407709121704, -0.03159024193882942, -0.04813634976744652, -0.028404688462615013, 0.01743076927959919, -0.0025845803320407867, 0.035635799169540405, -0.06149721145629883, -0.02652852237224579, 0.007263464853167534, -0.04982076585292816, -0.01628904975950718, 0.03188146650791168, -0.03739785775542259, 0.04319612681865692, 0.03778505697846413, -0.011847229674458504, -0.014469238929450512, 0.057342905551195145, -6.077444649021417e-33, 0.08399742841720581, -0.00448300875723362, 0.02897917479276657, 0.1759459674358368, 0.022186968475580215, 0.034488700330257416, -0.07583317160606384, -0.0289455559104681, 0.045434169471263885, -0.0006976984441280365, 0.030173368752002716, 0.03516320139169693, -0.035514626652002335, 0.029066400602459908, -0.0009545065695419908, 0.052099570631980896, -0.04260838031768799, 0.0436260811984539, 0.026293691247701645, 0.10749326646327972, -0.05243482440710068, 0.0012795545626431704, 0.017242087051272392, 0.06939546763896942, -0.0005361858056858182, 0.01741892099380493, 0.012511149980127811, -0.07684901356697083, 0.116597019135952, 0.006686360575258732, -4.9978425522567704e-05, -0.042176615446805954, -0.014877269975841045, 0.00991387665271759, 0.0018575063440948725, 0.003782744985073805, -0.011814026162028313, -0.062314681708812714, -0.09823354333639145, -0.03470880910754204, -0.04281335696578026, 0.052941616624593735, 0.05662177503108978, 0.022647401317954063, 0.006729639135301113, 0.01209439616650343, 0.044036947190761566, 0.026345405727624893, 0.006134954746812582, 0.06412449479103088, -0.0465887151658535, 0.016512179747223854, -0.08083231747150421, 0.050977353006601334, -0.02438255213201046, -0.007593991234898567, 0.04318685829639435, -0.022304603829979897, 0.002868254669010639, 0.059344612061977386, 0.024229563772678375, 0.09883484244346619, -0.016240404918789864, 0.03128783032298088, -0.03352028504014015, -0.05547017604112625, 0.05637942999601364, 0.017008528113365173, 0.05250098183751106, -0.019552892073988914, -0.03519473224878311, 0.021132251247763634, 0.04060488939285278, 0.05440628528594971, 0.005254619754850864, 0.01496788952499628, 0.10107941925525665, -0.0028177762869745493, 0.02141674794256687, -0.05807973071932793, 0.010797329246997833, 0.030273567885160446, 0.009400784969329834, -0.023965129628777504, 0.11465974152088165, -0.001756675774231553, 0.005019028205424547, -0.13321663439273834, -0.005039641633629799, -0.00992607418447733, -0.11120093613862991, 0.08285609632730484, 0.04250112175941467, -0.02370281331241131, -0.09995539486408234, 4.5180220882770625e-33, 0.1191171333193779, 0.010159538127481937, -0.03510035201907158, -0.06371889263391495, -0.06521979719400406, -0.04655515030026436, -0.07289128005504608, 0.12877391278743744, -0.09494666755199432, 0.06752654165029526, 0.02263784036040306, 0.011121933348476887, 0.12592026591300964, 0.022904466837644577, 0.07910473644733429, -0.006725744344294071, 0.12240929156541824, 0.021378222852945328, -0.017106719315052032, -0.0002748620754573494, -0.002657807432115078, -0.03963204100728035, -0.023963697254657745, -0.00536132650449872, -0.04703860729932785, -0.009655526839196682, 0.040119051933288574, 0.019828757271170616, -0.09217502176761627, 0.03299520164728165, 0.023498952388763428, 0.03163108974695206, -0.04645572975277901, -0.00023137616517487913, -0.013863721862435341, 0.046120256185531616, -0.09280030429363251, -0.017010727897286415, -0.022248156368732452, -0.026752738282084465, -0.07088305056095123, 0.0034230563323944807, -0.0186439361423254, 0.029151182621717453, -0.07964686304330826, -0.04766818881034851, -0.07343681156635284, 0.01739809289574623, -0.018444325774908066, -0.028485771268606186, -0.08216644823551178, -0.012751206755638123, 0.0314626544713974, -0.018137173727154732, -0.032237205654382706, 0.02236301638185978, -0.06304760277271271, 0.017220307141542435, 0.027381952852010727, 0.015004563145339489, 0.0050473823212087154, 0.028953731060028076, 0.014999675564467907, 0.06999915838241577, -0.00570766581222415, -0.02749626338481903, -0.006860399153083563, 0.06652607023715973, 0.04141376540064812, -0.040286868810653687, 0.000337887613568455, -0.021520160138607025, -0.02383032999932766, -0.00207303324714303, -0.02334549091756344, 0.06273894757032394, -0.023285627365112305, 0.008309946395456791, 0.005012479145079851, 0.017182625830173492, 0.02188056893646717, 0.003790477989241481, 0.03459012880921364, 0.020584294572472572, -0.024652326479554176, 0.03404655307531357, 0.031582288444042206, 0.07720225304365158, -0.01878032274544239, -0.09701249748468399, -0.036818236112594604, -0.024761104956269264, 0.009149751625955105, 0.010316136293113232, -0.08489950746297836, -1.736551524800234e-08, -0.07810395210981369, 0.021913539618253708, -0.04368754103779793, 0.053250014781951904, 0.03021904267370701, 0.039237432181835175, -0.0544978566467762, -0.06431223452091217, -0.06476970762014389, 0.051724787801504135, 0.0697493925690651, 0.08715104311704636, -0.05236703157424927, -0.007135231979191303, 0.0522756427526474, 0.01579677313566208, -0.020611051470041275, -0.003334267996251583, -0.020628806203603745, 0.002601238898932934, -0.0040680826641619205, -0.002219222253188491, 0.04245597869157791, -0.06749635934829712, 0.02724987454712391, -0.06256669014692307, -0.02301083132624626, 0.03724237531423569, -0.020402297377586365, -0.061187710613012314, 0.030609315261244774, 0.10324916988611221, -0.014833491295576096, -0.0012880937429144979, -0.09712721407413483, -0.012495961040258408, 0.011733874678611755, 0.046170637011528015, 0.07018883526325226, -0.06604695320129395, -0.0694163367152214, 0.05477339029312134, -0.012213586829602718, -0.10184524953365326, -0.024927737191319466, 0.04880096763372421, 0.06857070326805115, -0.057042114436626434, 0.0002423587575322017, -0.044892843812704086, -0.0860740914940834, 0.01927439123392105, 0.061838798224925995, 0.004050727002322674, 0.12735293805599213, 0.08548916131258011, 0.007892133668065071, 0.034092217683792114, -0.03664557635784149, 0.06814435869455338, 0.029427170753479004, -0.03173408657312393, 0.04157479479908943, 0.009992876090109348]\n",
      "Length of Vectors: 384\n"
     ]
    }
   ],
   "source": [
    "print(embedding)\n",
    "vectors = embedding.embed_query(\"Hello, World\")\n",
    "\n",
    "print(f\"Vectors: {vectors}\")\n",
    "print(f\"Length of Vectors: {len(vectors)}\")"
   ]
  },
  {
   "cell_type": "code",
   "execution_count": 42,
   "id": "483e3ad0",
   "metadata": {},
   "outputs": [
    {
     "data": {
      "text/plain": [
       "True"
      ]
     },
     "execution_count": 42,
     "metadata": {},
     "output_type": "execute_result"
    }
   ],
   "source": [
    "from dotenv import load_dotenv\n",
    "load_dotenv()"
   ]
  },
  {
   "cell_type": "code",
   "execution_count": 44,
   "id": "540f7ddb",
   "metadata": {},
   "outputs": [],
   "source": [
    "PINECONE_API_KEY = os.getenv(\"PINECONE_API_KEY\")\n",
    "OPENAI_API_KEY = os.getenv(\"OPENAI_API_KEY\")\n",
    "\n",
    "os.environ['PINECONE_API_KEY'] = PINECONE_API_KEY\n",
    "os.environ['OPENAI_API_KEY'] = OPENAI_API_KEY"
   ]
  },
  {
   "cell_type": "code",
   "execution_count": 46,
   "id": "87e4c058",
   "metadata": {},
   "outputs": [],
   "source": [
    "from pinecone import Pinecone\n",
    "pinecine_api_key = PINECONE_API_KEY\n",
    "\n",
    "pc = Pinecone(api_key=pinecine_api_key)"
   ]
  },
  {
   "cell_type": "code",
   "execution_count": 47,
   "id": "c4287b60",
   "metadata": {},
   "outputs": [
    {
     "data": {
      "text/plain": [
       "<pinecone.pinecone.Pinecone at 0x162a0bee0>"
      ]
     },
     "execution_count": 47,
     "metadata": {},
     "output_type": "execute_result"
    }
   ],
   "source": [
    "pc"
   ]
  },
  {
   "cell_type": "code",
   "execution_count": 53,
   "id": "ac012b9c",
   "metadata": {},
   "outputs": [],
   "source": [
    "from pinecone import ServerlessSpec\n",
    "\n",
    "index_name = \"medical-chatbot\"\n",
    "\n",
    "if not pc.has_index(index_name):\n",
    "    pc.create_index(\n",
    "        name=index_name,\n",
    "        dimension = 384,\n",
    "        metric = 'cosine',\n",
    "        spec = ServerlessSpec(cloud='aws', region= 'us-east-1')\n",
    "    )\n",
    "    \n",
    "index = pc.Index(index_name)"
   ]
  },
  {
   "cell_type": "code",
   "execution_count": 55,
   "id": "7dfbf54b",
   "metadata": {},
   "outputs": [],
   "source": [
    "from langchain_pinecone import PineconeVectorStore\n",
    "\n",
    "doc_search = PineconeVectorStore.from_documents(\n",
    "    documents = text_chunks,\n",
    "    embedding = embedding,\n",
    "    index_name = index_name\n",
    ")"
   ]
  },
  {
   "cell_type": "code",
   "execution_count": 56,
   "id": "1e4f5b23",
   "metadata": {},
   "outputs": [],
   "source": [
    "# Load Existing Index\n",
    "\n",
    "from langchain_pinecone import PineconeVectorStore\n",
    "\n",
    "doc_search = PineconeVectorStore.from_existing_index(\n",
    "    index_name = index_name,\n",
    "    embedding = embedding,\n",
    "    \n",
    ")"
   ]
  },
  {
   "cell_type": "code",
   "execution_count": 60,
   "id": "ff8e9390",
   "metadata": {},
   "outputs": [
    {
     "data": {
      "text/plain": [
       "['93f28693-a54c-48c7-a6fe-6b0aa84c5179']"
      ]
     },
     "execution_count": 60,
     "metadata": {},
     "output_type": "execute_result"
    }
   ],
   "source": [
    "# Add more data to the existing Pinecon Index\n",
    "\n",
    "add_more = Document(\n",
    "    page_content = \" I am M Hassan Farid, Lab Engineer at Abasyn University.\",\n",
    "    metadata = {'source': 'LinkedIN'}\n",
    ")\n",
    "\n",
    "# doc_search.add_documents(documents=[add_more])"
   ]
  },
  {
   "cell_type": "code",
   "execution_count": 61,
   "id": "8c5fa9a1",
   "metadata": {},
   "outputs": [],
   "source": [
    "# Retriever\n",
    "\n",
    "retriever = doc_search.as_retriever(search_type='similarity', search_kwargs={\"k\":3})"
   ]
  },
  {
   "cell_type": "code",
   "execution_count": null,
   "id": "6f9a9298",
   "metadata": {},
   "outputs": [
    {
     "data": {
      "text/plain": [
       "[Document(id='54dfbdeb-db0b-4a1d-91d9-5c4895b3228e', metadata={'source': 'Dataset/Medical_book.pdf'}, page_content='GALE ENCYCLOPEDIA OF MEDICINE 226\\nAcne\\nGEM - 0001 to 0432 - A  10/22/03 1:41 PM  Page 26'),\n",
       " Document(id='de95ed55-45f6-465d-aa74-7f27f3910cd3', metadata={'source': 'Dataset/Medical_book.pdf'}, page_content='GALE ENCYCLOPEDIA OF MEDICINE 2 25\\nAcne\\nAcne vulgaris affecting a woman’s face. Acne is the general\\nname given to a skin disorder in which the sebaceous\\nglands become inflamed. (Photograph by Biophoto Associ-\\nates, Photo Researchers, Inc. Reproduced by permission.)\\nGEM - 0001 to 0432 - A  10/22/03 1:41 PM  Page 25'),\n",
       " Document(id='6f9ba235-a455-4a71-8f1e-a6bdb5f56256', metadata={'source': 'Dataset/Medical_book.pdf'}, page_content='Acidosis see Respiratory acidosis; Renal\\ntubular acidosis; Metabolic acidosis\\nAcne\\nDefinition\\nAcne is a common skin disease characterized by\\npimples on the face, chest, and back. It occurs when the\\npores of the skin become clogged with oil, dead skin\\ncells, and bacteria.\\nDescription\\nAcne vulgaris, the medical term for common acne, is\\nthe most common skin disease. It affects nearly 17 million\\npeople in the United States. While acne can arise at any')]"
      ]
     },
     "execution_count": 63,
     "metadata": {},
     "output_type": "execute_result"
    }
   ],
   "source": [
    "retriev_docs = retriever.invoke(\"What is Acne?\")\n",
    "retriev_docs"
   ]
  },
  {
   "cell_type": "code",
   "execution_count": 64,
   "id": "d9c08385",
   "metadata": {},
   "outputs": [],
   "source": [
    "from langchain_openai import ChatOpenAI\n",
    "\n",
    "chat_model = ChatOpenAI(\n",
    "    model = 'gpt-4o'\n",
    ")"
   ]
  },
  {
   "cell_type": "code",
   "execution_count": 68,
   "id": "7865ac6f",
   "metadata": {},
   "outputs": [],
   "source": [
    "from langchain.chains import create_retrieval_chain\n",
    "from langchain.chains.combine_documents import create_stuff_documents_chain\n",
    "from langchain_core.prompts import ChatPromptTemplate"
   ]
  },
  {
   "cell_type": "code",
   "execution_count": 70,
   "id": "5d3effd2",
   "metadata": {},
   "outputs": [],
   "source": [
    "# System Prompt\n",
    "\n",
    "system_prompt = (\n",
    "    \"You are an Medical assistant for question-answering tasks. \"\n",
    "    \"Use the following pieces of retrieved context to answer \"\n",
    "    \"the question. If you don't know the answer, say that you \"\n",
    "    \"don't know. Use three sentences maximum and keep the \"\n",
    "    \"answer concise.\"\n",
    "    \"\\n\\n\"\n",
    "    \"{context}\"\n",
    ")\n",
    "\n",
    "prompt = ChatPromptTemplate.from_messages(\n",
    "    [\n",
    "        ('system',system_prompt),\n",
    "        ('human', '{input}')\n",
    "    ]\n",
    ")"
   ]
  },
  {
   "cell_type": "code",
   "execution_count": null,
   "id": "f07d8bb2",
   "metadata": {},
   "outputs": [],
   "source": [
    "question_answere_chain = create_stuff_documents_chain(chat_model,prompt)\n",
    "rag_chain = create_retrieval_chain(retriever, question_answere_chain)"
   ]
  },
  {
   "cell_type": "code",
   "execution_count": 73,
   "id": "29541688",
   "metadata": {},
   "outputs": [
    {
     "data": {
      "text/plain": [
       "{'input': 'What is Acromegaly and gigantism?',\n",
       " 'context': [Document(id='e62b0e54-080b-430c-83d5-f4489d09e612', metadata={'source': 'Dataset/Medical_book.pdf'}, page_content='Whitehouse Station, NJ: Merck Research Laboratories,\\n1997.\\nLarsen, D. E., ed. Mayo Clinic Family Health Book.New York:\\nWilliam Morrow and Co., Inc., 1996.\\nJohn T. Lohr, PhD\\nAcromegaly and gigantism\\nDefinition\\nAcromegaly is a disorder in which the abnormal\\nrelease of a particular chemical from the pituitary gland\\nin the brain causes increased growth in bone and soft tis-\\nsue, as well as a variety of other disturbances throughout\\nthe body. This chemical released from the pituitary gland'),\n",
       "  Document(id='f0c76072-89a7-488e-b598-28db1355c377', metadata={'source': 'Dataset/Medical_book.pdf'}, page_content='mone Excess: Acromegaly and Gigantism.” In Harrison’s\\nPrinciples of Internal Medicine, ed. Anthony S. Fauci, et\\nal. New York: McGraw-Hill, 1997.\\nJameson, J. Larry. “Growth Hormone Excess: Acromegaly and\\nGigantism.” In Cecil Textbook of Medicine, ed. J. Claude\\nBennett and Fred Plum. Philadelphia: W. B. Saunders Co.,\\n1996.\\nPERIODICALS\\nJaffe, C. A. “Acromegaly: Recognition and Treatment.”Drugs\\n47, no. 3 (1994): 425+.\\nKrishna, A. Y . “Management of Acromegaly: A Review.”Ameri-'),\n",
       "  Document(id='55eca1f1-e4d5-45b6-8055-e11012f07567', metadata={'source': 'Dataset/Medical_book.pdf'}, page_content='unusual height. When the abnormality occurs after bone\\ngrowth stops, the disorder is called acromegaly.\\nDescription\\nAcromegaly is a relatively rare disorder, occurring in\\napproximately 50 out of every one million people (50/\\n1,000,000). Both men and women are affected. Because\\nthe symptoms of acromegaly occur so gradually, diagno-\\nsis is often delayed. The majority of patients are not\\nidentified until they are middle aged.\\nCauses and symptoms')],\n",
       " 'answer': 'Acromegaly is a disorder caused by the abnormal release of a chemical from the pituitary gland, leading to increased growth in bone and soft tissue. Gigantism, also related to excess growth hormone, occurs when the abnormality begins before bone growth stops, resulting in unusual height. Both conditions involve disturbances caused by hormone imbalances in the body.'}"
      ]
     },
     "execution_count": 73,
     "metadata": {},
     "output_type": "execute_result"
    }
   ],
   "source": [
    "response = rag_chain.invoke({\"input\": 'What is Acromegaly and gigantism?'})\n",
    "response"
   ]
  },
  {
   "cell_type": "code",
   "execution_count": 75,
   "id": "b294f687",
   "metadata": {},
   "outputs": [
    {
     "name": "stdout",
     "output_type": "stream",
     "text": [
      "Acromegaly is a disorder caused by the abnormal release of a chemical from the pituitary gland, leading to increased growth in bone and soft tissue. Gigantism, also related to excess growth hormone, occurs when the abnormality begins before bone growth stops, resulting in unusual height. Both conditions involve disturbances caused by hormone imbalances in the body.\n"
     ]
    }
   ],
   "source": [
    "print(response['answer'])"
   ]
  },
  {
   "cell_type": "code",
   "execution_count": 76,
   "id": "e3399da7",
   "metadata": {},
   "outputs": [
    {
     "name": "stdout",
     "output_type": "stream",
     "text": [
      "Acne is a common skin disease characterized by pimples on the face, chest, and back, occurring when the skin pores become clogged with oil, dead skin cells, and bacteria. It is medically known as acne vulgaris and is the most common skin disease, affecting nearly 17 million people in the United States.\n"
     ]
    }
   ],
   "source": [
    "response = rag_chain.invoke({'input': 'What is Acne?'})\n",
    "print(response['answer'])"
   ]
  },
  {
   "cell_type": "code",
   "execution_count": 77,
   "id": "475989ea",
   "metadata": {},
   "outputs": [
    {
     "name": "stdout",
     "output_type": "stream",
     "text": [
      "The treatment of acne depends on its severity. For mild non-inflammatory acne, topical treatments like tretinoin, benzoyl peroxide, adapalene, or salicylic acid are used, often with improvement seen in two to four weeks. For inflammatory acne, topical antibiotics may be added, and in more severe cases, oral medications such as isotretinoin may be considered.\n"
     ]
    }
   ],
   "source": [
    "response = rag_chain.invoke({'input':'What is the treatment of Acne?'})\n",
    "print(response['answer'])"
   ]
  },
  {
   "cell_type": "code",
   "execution_count": null,
   "id": "0287dfa5",
   "metadata": {},
   "outputs": [],
   "source": []
  }
 ],
 "metadata": {
  "kernelspec": {
   "display_name": "medibot",
   "language": "python",
   "name": "python3"
  },
  "language_info": {
   "codemirror_mode": {
    "name": "ipython",
    "version": 3
   },
   "file_extension": ".py",
   "mimetype": "text/x-python",
   "name": "python",
   "nbconvert_exporter": "python",
   "pygments_lexer": "ipython3",
   "version": "3.10.18"
  }
 },
 "nbformat": 4,
 "nbformat_minor": 5
}
